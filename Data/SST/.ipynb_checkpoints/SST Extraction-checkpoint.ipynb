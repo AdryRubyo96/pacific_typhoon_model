{
 "cells": [
  {
   "cell_type": "code",
   "execution_count": 1,
   "metadata": {
    "collapsed": true
   },
   "outputs": [],
   "source": [
    "# LIBRARY IMPORT\n",
    "import xarray as xr\n",
    "import matplotlib.pyplot as plt\n",
    "import numpy as np\n",
    "\n",
    "# Unpack the dataset\n",
    "ds = xr.open_dataset('HadISST_sst.nc')\n",
    "\n",
    "# Choose the sea surface temperature variable\n",
    "SST = ds.sst"
   ]
  },
  {
   "cell_type": "code",
   "execution_count": 2,
   "metadata": {
    "collapsed": true
   },
   "outputs": [],
   "source": [
    "SST = SST.sel(time=slice('1951-01','2010-12'))"
   ]
  },
  {
   "cell_type": "code",
   "execution_count": 3,
   "metadata": {
    "collapsed": true
   },
   "outputs": [],
   "source": [
    "# Create a list of the interested latitudes\n",
    "lats = np.linspace(0.5,50.5,51)\n",
    "\n",
    "# Seclect SST only for those latitudes\n",
    "sst = SST.sel(latitude=lats)\n",
    "\n",
    "# Create a list of the interested longitudes\n",
    "lons = np.linspace(99.5,179.5,81)\n",
    "\n",
    "# Seclect SST only for those longitudes\n",
    "sst = sst.sel(longitude=lons)"
   ]
  },
  {
   "cell_type": "code",
   "execution_count": 4,
   "metadata": {
    "collapsed": true
   },
   "outputs": [],
   "source": [
    "sst.to_netcdf('reduced_sst.nc')"
   ]
  },
  {
   "cell_type": "code",
   "execution_count": 5,
   "metadata": {},
   "outputs": [
    {
     "data": {
      "text/plain": [
       "<xarray.DataArray 'sst' (time: 720, latitude: 180, longitude: 360)>\n",
       "[46656000 values with dtype=float64]\n",
       "Coordinates:\n",
       "  * time       (time) datetime64[ns] 1951-01-16T12:00:00 1951-02-15 ...\n",
       "  * latitude   (latitude) float32 89.5 88.5 87.5 86.5 85.5 84.5 83.5 82.5 ...\n",
       "  * longitude  (longitude) float32 -179.5 -178.5 -177.5 -176.5 -175.5 -174.5 ...\n",
       "Attributes:\n",
       "    standard_name:  sea_surface_temperature\n",
       "    long_name:      sst\n",
       "    units:          C\n",
       "    cell_methods:   time: lat: lon: mean"
      ]
     },
     "execution_count": 5,
     "metadata": {},
     "output_type": "execute_result"
    }
   ],
   "source": [
    "SST"
   ]
  },
  {
   "cell_type": "code",
   "execution_count": null,
   "metadata": {
    "collapsed": true
   },
   "outputs": [],
   "source": []
  },
  {
   "cell_type": "code",
   "execution_count": null,
   "metadata": {
    "collapsed": true
   },
   "outputs": [],
   "source": [
    "SST.groupby(SST.time.dt.year)[]"
   ]
  }
 ],
 "metadata": {
  "kernelspec": {
   "display_name": "Python 2",
   "language": "python",
   "name": "python2"
  },
  "language_info": {
   "codemirror_mode": {
    "name": "ipython",
    "version": 3
   },
   "file_extension": ".py",
   "mimetype": "text/x-python",
   "name": "python",
   "nbconvert_exporter": "python",
   "pygments_lexer": "ipython3",
   "version": "3.6.1"
  }
 },
 "nbformat": 4,
 "nbformat_minor": 2
}
