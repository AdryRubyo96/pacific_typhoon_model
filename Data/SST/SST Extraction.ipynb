{
 "cells": [
  {
   "cell_type": "code",
   "execution_count": 3,
   "metadata": {},
   "outputs": [],
   "source": [
    "# LIBRARY IMPORT\n",
    "import xarray as xr\n",
    "import matplotlib.pyplot as plt\n",
    "import numpy as np\n",
    "\n",
    "# Unpack the dataset\n",
    "ds = xr.open_dataset('HadISST_sst.nc')\n",
    "\n",
    "# Choose the sea surface temperature variable\n",
    "SST = ds.sst"
   ]
  },
  {
   "cell_type": "code",
   "execution_count": 4,
   "metadata": {
    "collapsed": true
   },
   "outputs": [],
   "source": [
    "SST = SST.sel(time=slice('1951-01','2010-12'))"
   ]
  },
  {
   "cell_type": "code",
   "execution_count": 11,
   "metadata": {
    "collapsed": true
   },
   "outputs": [],
   "source": [
    "# Create a list of the interested latitudes\n",
    "lats = np.linspace(0.5,50.5,51)\n",
    "\n",
    "# Seclect SST only for those latitudes\n",
    "SST = SST.sel(latitude=lats)\n",
    "\n",
    "# Create a list of the interested longitudes\n",
    "lons = np.linspace(99.5,179.5,81)\n",
    "\n",
    "# Seclect SST only for those longitudes\n",
    "SST = SST.sel(longitude=lons)"
   ]
  },
  {
   "cell_type": "code",
   "execution_count": 14,
   "metadata": {},
   "outputs": [
    {
     "data": {
      "text/plain": [
       "<xarray.DataArray 'sst' (time: 720, latitude: 51, longitude: 81)>\n",
       "[2974320 values with dtype=float64]\n",
       "Coordinates:\n",
       "  * time       (time) datetime64[ns] 1951-01-16T12:00:00 1951-02-15 ...\n",
       "  * latitude   (latitude) float32 0.5 1.5 2.5 3.5 4.5 5.5 6.5 7.5 8.5 9.5 ...\n",
       "  * longitude  (longitude) float32 99.5 100.5 101.5 102.5 103.5 104.5 105.5 ...\n",
       "Attributes:\n",
       "    standard_name:  sea_surface_temperature\n",
       "    long_name:      sst\n",
       "    units:          C\n",
       "    cell_methods:   time: lat: lon: mean"
      ]
     },
     "execution_count": 14,
     "metadata": {},
     "output_type": "execute_result"
    }
   ],
   "source": [
    "SST."
   ]
  },
  {
   "cell_type": "code",
   "execution_count": 12,
   "metadata": {
    "scrolled": true
   },
   "outputs": [],
   "source": [
    "# Group by latitude and take the mean\n",
    "SST_latitude = SST.groupby('latitude').mean()"
   ]
  },
  {
   "cell_type": "code",
   "execution_count": 13,
   "metadata": {},
   "outputs": [
    {
     "data": {
      "text/plain": [
       "<xarray.DataArray 'sst' (latitude: 51)>\n",
       "array([ 29.003003,  28.996229,  28.982983,  28.940021,  28.881276,  28.817447,\n",
       "        28.757731,  28.709833,  28.632571,  28.541447,  28.468253,  28.410606,\n",
       "        28.33039 ,  28.246934,  28.158161,  28.036116,  27.898467,  27.744876,\n",
       "        27.573319,  27.382662,  27.123313,  26.873824,  26.601065,  26.254559,\n",
       "        25.822182,  25.373846,  24.821878,  24.276857,  23.699889,  23.075291,\n",
       "        22.406532,  21.868559,  21.256296,  20.581774,  19.769063,  18.851084,\n",
       "        18.01253 ,  16.891088,  15.777657,  14.56304 ,  13.311586,  11.871985,\n",
       "        10.476759,   9.169388,   8.041698,   7.204212,   6.531885,   6.018527,\n",
       "         5.656752,   5.368617,   5.26092 ])\n",
       "Coordinates:\n",
       "  * latitude  (latitude) float32 0.5 1.5 2.5 3.5 4.5 5.5 6.5 7.5 8.5 9.5 ..."
      ]
     },
     "execution_count": 13,
     "metadata": {},
     "output_type": "execute_result"
    }
   ],
   "source": [
    "SST_latitude"
   ]
  },
  {
   "cell_type": "code",
   "execution_count": null,
   "metadata": {
    "collapsed": true
   },
   "outputs": [],
   "source": [
    "sst = SST1.to_dataframe().reset_index()"
   ]
  },
  {
   "cell_type": "code",
   "execution_count": null,
   "metadata": {},
   "outputs": [],
   "source": [
    "sst.to_csv('sst_data.csv', index=False)"
   ]
  }
 ],
 "metadata": {
  "kernelspec": {
   "display_name": "Python 2",
   "language": "python",
   "name": "python2"
  },
  "language_info": {
   "codemirror_mode": {
    "name": "ipython",
    "version": 2
   },
   "file_extension": ".py",
   "mimetype": "text/x-python",
   "name": "python",
   "nbconvert_exporter": "python",
   "pygments_lexer": "ipython2",
   "version": "2.7.13"
  }
 },
 "nbformat": 4,
 "nbformat_minor": 2
}
